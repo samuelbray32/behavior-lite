{
 "cells": [
  {
   "cell_type": "code",
   "execution_count": 1,
   "id": "d3b85fd0",
   "metadata": {},
   "outputs": [],
   "source": [
    "from tools.heatmap import behavior_heatmap"
   ]
  },
  {
   "cell_type": "code",
   "execution_count": 2,
   "id": "81a8fc5c",
   "metadata": {},
   "outputs": [
    {
     "name": "stderr",
     "output_type": "stream",
     "text": [
      "100%|██████████| 10/10 [00:00<00:00, 107.94it/s]\n",
      "100%|██████████| 10/10 [00:00<00:00, 207.27it/s]\n",
      "  0%|          | 0/10 [00:00<?, ?it/s]"
     ]
    },
    {
     "name": "stdout",
     "output_type": "stream",
     "text": [
      "['WT']\n"
     ]
    },
    {
     "name": "stderr",
     "output_type": "stream",
     "text": [
      "100%|██████████| 10/10 [00:00<00:00, 116.99it/s]\n",
      "100%|██████████| 10/10 [00:00<00:00, 200.88it/s]\n",
      "100%|██████████| 10/10 [00:00<00:00, 291.31it/s]\n",
      "100%|██████████| 10/10 [00:00<00:00, 207.91it/s]\n",
      "  0%|          | 0/10 [00:00<?, ?it/s]"
     ]
    },
    {
     "name": "stdout",
     "output_type": "stream",
     "text": [
      "['WT_30s']\n",
      "['nkx', '052621nkx']\n"
     ]
    },
    {
     "name": "stderr",
     "output_type": "stream",
     "text": [
      "100%|██████████| 10/10 [00:00<00:00, 54.36it/s]\n",
      "100%|██████████| 10/10 [00:00<00:00, 80.14it/s]\n",
      "100%|██████████| 10/10 [00:00<00:00, 50.35it/s]\n",
      " 30%|███       | 3/10 [00:00<00:00, 24.81it/s]"
     ]
    },
    {
     "name": "stdout",
     "output_type": "stream",
     "text": [
      "['nkx_30s', '052621nkx_30s']\n"
     ]
    },
    {
     "name": "stderr",
     "output_type": "stream",
     "text": [
      "100%|██████████| 10/10 [00:00<00:00, 37.60it/s]\n",
      "100%|██████████| 10/10 [00:00<00:00, 93.67it/s]\n",
      "100%|██████████| 10/10 [00:00<00:00, 67.88it/s]\n",
      "100%|██████████| 10/10 [00:00<00:00, 432.92it/s]\n",
      "100%|██████████| 10/10 [00:00<00:00, 653.87it/s]\n",
      "100%|██████████| 10/10 [00:00<00:00, 495.04it/s]\n",
      "100%|██████████| 10/10 [00:00<00:00, 151.57it/s]\n",
      "  0%|          | 0/10 [00:00<?, ?it/s]"
     ]
    },
    {
     "name": "stdout",
     "output_type": "stream",
     "text": [
      "['101121arx']\n",
      "['101121arx_30s']\n"
     ]
    },
    {
     "name": "stderr",
     "output_type": "stream",
     "text": [
      "100%|██████████| 10/10 [00:00<00:00, 274.88it/s]\n",
      "100%|██████████| 10/10 [00:00<00:00, 204.63it/s]\n",
      "100%|██████████| 10/10 [00:00<00:00, 425.42it/s]\n",
      "100%|██████████| 10/10 [00:00<00:00, 633.42it/s]\n",
      "100%|██████████| 10/10 [00:00<00:00, 451.48it/s]\n",
      "100%|██████████| 10/10 [00:00<00:00, 128.77it/s]\n",
      "  0%|          | 0/10 [00:00<?, ?it/s]"
     ]
    },
    {
     "name": "stdout",
     "output_type": "stream",
     "text": [
      "['022421pc2']\n",
      "['pc2_30s', '022421pc2_30s']\n"
     ]
    },
    {
     "name": "stderr",
     "output_type": "stream",
     "text": [
      "100%|██████████| 10/10 [00:00<00:00, 167.07it/s]\n",
      "100%|██████████| 10/10 [00:00<00:00, 107.27it/s]\n",
      "100%|██████████| 10/10 [00:00<00:00, 256.70it/s]\n",
      "100%|██████████| 10/10 [00:00<00:00, 497.27it/s]\n",
      "100%|██████████| 10/10 [00:00<00:00, 390.15it/s]\n",
      "100%|██████████| 10/10 [00:00<00:00, 431.00it/s]\n",
      "100%|██████████| 10/10 [00:00<00:00, 593.77it/s]\n",
      "100%|██████████| 10/10 [00:00<00:00, 511.68it/s]\n",
      "  0%|          | 0/10 [00:00<?, ?it/s]"
     ]
    },
    {
     "name": "stdout",
     "output_type": "stream",
     "text": [
      "['032321chat']\n",
      "['032321chat_30s']\n",
      "['gad120120', '100421gad']\n"
     ]
    },
    {
     "name": "stderr",
     "output_type": "stream",
     "text": [
      "100%|██████████| 10/10 [00:00<00:00, 183.64it/s]\n",
      "100%|██████████| 10/10 [00:00<00:00, 265.47it/s]\n",
      "100%|██████████| 10/10 [00:00<00:00, 185.72it/s]\n",
      "100%|██████████| 10/10 [00:00<00:00, 85.94it/s]\n",
      "100%|██████████| 10/10 [00:00<00:00, 137.61it/s]\n"
     ]
    },
    {
     "name": "stdout",
     "output_type": "stream",
     "text": [
      "['gad_30s', '100421gad_30s']\n"
     ]
    },
    {
     "name": "stderr",
     "output_type": "stream",
     "text": [
      "100%|██████████| 10/10 [00:00<00:00, 97.52it/s]\n",
      "100%|██████████| 10/10 [00:00<00:00, 78.85it/s]\n",
      "  0%|          | 0/10 [00:00<?, ?it/s]"
     ]
    },
    {
     "name": "stdout",
     "output_type": "stream",
     "text": [
      "['tbh', 'tbh120120', '042922tbh']\n"
     ]
    },
    {
     "name": "stderr",
     "output_type": "stream",
     "text": [
      "100%|██████████| 10/10 [00:00<00:00, 127.23it/s]\n",
      "100%|██████████| 10/10 [00:00<00:00, 70.21it/s]\n",
      "100%|██████████| 10/10 [00:00<00:00, 196.38it/s]\n",
      "100%|██████████| 10/10 [00:00<00:00, 316.48it/s]\n",
      "100%|██████████| 10/10 [00:00<00:00, 203.81it/s]\n",
      "  0%|          | 0/10 [00:00<?, ?it/s]"
     ]
    },
    {
     "name": "stdout",
     "output_type": "stream",
     "text": [
      "['tbh_30s']\n",
      "['032321th', '0715224mnthstarve']\n"
     ]
    },
    {
     "name": "stderr",
     "output_type": "stream",
     "text": [
      "100%|██████████| 10/10 [00:00<00:00, 92.89it/s]\n",
      "100%|██████████| 10/10 [00:00<00:00, 147.90it/s]\n",
      "100%|██████████| 10/10 [00:00<00:00, 100.49it/s]\n",
      "100%|██████████| 10/10 [00:00<00:00, 301.25it/s]\n",
      "100%|██████████| 10/10 [00:00<00:00, 273.67it/s]\n",
      "100%|██████████| 10/10 [00:00<00:00, 133.20it/s]\n",
      "  0%|          | 0/10 [00:00<?, ?it/s]"
     ]
    },
    {
     "name": "stdout",
     "output_type": "stream",
     "text": [
      "['032321th_30s']\n",
      "['snap25']\n"
     ]
    },
    {
     "name": "stderr",
     "output_type": "stream",
     "text": [
      "100%|██████████| 10/10 [00:00<00:00, 116.93it/s]\n",
      "100%|██████████| 10/10 [00:00<00:00, 216.10it/s]\n",
      "100%|██████████| 10/10 [00:00<00:00, 110.11it/s]\n",
      "100%|██████████| 10/10 [00:00<00:00, 137.82it/s]\n",
      "100%|██████████| 10/10 [00:00<00:00, 222.66it/s]\n",
      "  0%|          | 0/10 [00:00<?, ?it/s]"
     ]
    },
    {
     "name": "stdout",
     "output_type": "stream",
     "text": [
      "['snap25_30s']\n"
     ]
    },
    {
     "name": "stderr",
     "output_type": "stream",
     "text": [
      "100%|██████████| 10/10 [00:00<00:00, 89.91it/s]\n",
      " 50%|█████     | 5/10 [00:00<00:00, 44.31it/s]"
     ]
    },
    {
     "name": "stdout",
     "output_type": "stream",
     "text": [
      "['slit', '032922slit']\n"
     ]
    },
    {
     "name": "stderr",
     "output_type": "stream",
     "text": [
      "100%|██████████| 10/10 [00:00<00:00, 45.71it/s]\n",
      "100%|██████████| 10/10 [00:00<00:00, 59.37it/s]\n",
      "100%|██████████| 10/10 [00:00<00:00, 49.84it/s]\n",
      "100%|██████████| 10/10 [00:00<00:00, 244.86it/s]\n",
      "100%|██████████| 10/10 [00:00<00:00, 350.64it/s]\n",
      "100%|██████████| 10/10 [00:00<00:00, 244.91it/s]\n",
      "  0%|          | 0/10 [00:00<?, ?it/s]"
     ]
    },
    {
     "name": "stdout",
     "output_type": "stream",
     "text": [
      "['032922slit_30s']\n",
      "['120820syt1t', '120820syt1h', '120820syt1', 'syt1a', '030421syt1']\n"
     ]
    },
    {
     "name": "stderr",
     "output_type": "stream",
     "text": [
      "100%|██████████| 10/10 [00:00<00:00, 86.97it/s]\n",
      "100%|██████████| 10/10 [00:00<00:00, 132.19it/s]\n",
      "100%|██████████| 10/10 [00:00<00:00, 79.42it/s]\n",
      "100%|██████████| 10/10 [00:00<00:00, 82.50it/s]\n",
      "100%|██████████| 10/10 [00:00<00:00, 181.96it/s]\n",
      "  0%|          | 0/10 [00:00<?, ?it/s]"
     ]
    },
    {
     "name": "stdout",
     "output_type": "stream",
     "text": [
      "['120820syt1_30s', '030421syt1_30s', '091820syt1_30s']\n"
     ]
    },
    {
     "name": "stderr",
     "output_type": "stream",
     "text": [
      "100%|██████████| 10/10 [00:00<00:00, 101.65it/s]\n",
      "100%|██████████| 10/10 [00:00<00:00, 549.29it/s]\n",
      "100%|██████████| 10/10 [00:00<00:00, 459.95it/s]\n",
      "100%|██████████| 10/10 [00:00<00:00, 316.22it/s]\n",
      "100%|██████████| 10/10 [00:00<00:00, 265.88it/s]\n",
      "100%|██████████| 10/10 [00:00<00:00, 636.67it/s]\n",
      "  0%|          | 0/10 [00:00<?, ?it/s]"
     ]
    },
    {
     "name": "stdout",
     "output_type": "stream",
     "text": [
      "['syt1a']\n",
      "['syt1a_30s']\n"
     ]
    },
    {
     "name": "stderr",
     "output_type": "stream",
     "text": [
      "100%|██████████| 10/10 [00:00<00:00, 448.91it/s]\n",
      " 30%|███       | 3/10 [00:00<00:00, 27.30it/s]"
     ]
    },
    {
     "name": "stdout",
     "output_type": "stream",
     "text": [
      "['120720syt4h', '120720syt4t', '120720syt4', '021121syt4', '030421syt4', '042121syt4', 'COMBOsyt4']\n"
     ]
    },
    {
     "name": "stderr",
     "output_type": "stream",
     "text": [
      "100%|██████████| 10/10 [00:00<00:00, 27.76it/s]\n",
      "100%|██████████| 10/10 [00:00<00:00, 40.22it/s]\n",
      "100%|██████████| 10/10 [00:00<00:00, 26.92it/s]\n",
      " 40%|████      | 4/10 [00:00<00:00, 38.07it/s]"
     ]
    },
    {
     "name": "stdout",
     "output_type": "stream",
     "text": [
      "['120720syt4_30s', '021121syt4_30s', '030421syt4_30s', '042121syt4_30s', 'COMBOsyt4_30s']\n"
     ]
    },
    {
     "name": "stderr",
     "output_type": "stream",
     "text": [
      "100%|██████████| 10/10 [00:00<00:00, 37.64it/s]\n",
      "100%|██████████| 10/10 [00:00<00:00, 54.25it/s]\n",
      "100%|██████████| 10/10 [00:00<00:00, 37.87it/s]\n",
      "100%|██████████| 10/10 [00:00<00:00, 331.71it/s]\n",
      "100%|██████████| 10/10 [00:00<00:00, 370.98it/s]\n",
      "100%|██████████| 10/10 [00:00<00:00, 218.74it/s]\n",
      "100%|██████████| 10/10 [00:00<00:00, 261.63it/s]\n",
      "  0%|          | 0/10 [00:00<?, ?it/s]"
     ]
    },
    {
     "name": "stdout",
     "output_type": "stream",
     "text": [
      "['062822netr']\n",
      "['062822netr_30s']\n"
     ]
    },
    {
     "name": "stderr",
     "output_type": "stream",
     "text": [
      "100%|██████████| 10/10 [00:00<00:00, 310.60it/s]\n",
      "100%|██████████| 10/10 [00:00<00:00, 265.21it/s]\n",
      "100%|██████████| 10/10 [00:00<00:00, 245.19it/s]\n",
      "100%|██████████| 10/10 [00:00<00:00, 349.64it/s]\n",
      "100%|██████████| 10/10 [00:00<00:00, 249.63it/s]\n",
      "100%|██████████| 10/10 [00:00<00:00, 277.28it/s]\n",
      "100%|██████████| 10/10 [00:00<00:00, 397.68it/s]\n",
      "  0%|          | 0/10 [00:00<?, ?it/s]"
     ]
    },
    {
     "name": "stdout",
     "output_type": "stream",
     "text": [
      "['mblk']\n",
      "['mblk_30s']\n"
     ]
    },
    {
     "name": "stderr",
     "output_type": "stream",
     "text": [
      "100%|██████████| 10/10 [00:00<00:00, 266.36it/s]\n",
      "/home/sam/Desktop/behavior_lite/tools/heatmap.py:128: RuntimeWarning: divide by zero encountered in log2\n",
      "  phenotypes=np.log2(phenotypes)\n"
     ]
    },
    {
     "data": {
      "image/png": "[encoded data removed]",
      "text/plain": [
       "<Figure size 432x288 with 2 Axes>"
      ]
     },
     "metadata": {
      "needs_background": "light"
     },
     "output_type": "display_data"
    }
   ],
   "source": [
    "behavior_heatmap(['nkx','arx','pc2','chat','gad','tbh','th','snap25','slit','syt1','syt1a','syt4','netr','mblk',],\n",
    "                 [],n_boot=1e1,measure_compare='rel')"
   ]
  },
  {
   "cell_type": "code",
   "execution_count": null,
   "id": "43895c17",
   "metadata": {},
   "outputs": [],
   "source": []
  }
 ],
 "metadata": {
  "kernelspec": {
   "display_name": "Python 3",
   "language": "python",
   "name": "python3"
  },
  "language_info": {
   "codemirror_mode": {
    "name": "ipython",
    "version": 3
   },
   "file_extension": ".py",
   "mimetype": "text/x-python",
   "name": "python",
   "nbconvert_exporter": "python",
   "pygments_lexer": "ipython3",
   "version": "3.7.10"
  }
 },
 "nbformat": 4,
 "nbformat_minor": 5
}
