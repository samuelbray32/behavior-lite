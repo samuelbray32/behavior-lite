{
 "cells": [
  {
   "cell_type": "code",
   "execution_count": 3,
   "id": "f748112f",
   "metadata": {
    "scrolled": false
   },
   "outputs": [
    {
     "name": "stderr",
     "output_type": "stream",
     "text": [
      " 14%|█▍        | 14/100 [00:00<00:00, 133.42it/s]"
     ]
    },
    {
     "name": "stdout",
     "output_type": "stream",
     "text": [
      "['WT']\n"
     ]
    },
    {
     "name": "stderr",
     "output_type": "stream",
     "text": [
      "100%|██████████| 100/100 [00:00<00:00, 122.83it/s]\n",
      "100%|██████████| 100/100 [00:00<00:00, 216.88it/s]\n",
      "100%|██████████| 100/100 [00:00<00:00, 121.91it/s]\n",
      " 21%|██        | 21/100 [00:00<00:00, 209.39it/s]"
     ]
    },
    {
     "name": "stdout",
     "output_type": "stream",
     "text": [
      "['WT_30s']\n"
     ]
    },
    {
     "name": "stderr",
     "output_type": "stream",
     "text": [
      "100%|██████████| 100/100 [00:00<00:00, 210.92it/s]\n",
      "100%|██████████| 100/100 [00:00<00:00, 312.05it/s]\n",
      "100%|██████████| 100/100 [00:00<00:00, 200.94it/s]\n",
      " 33%|███▎      | 33/100 [00:00<00:00, 322.48it/s]"
     ]
    },
    {
     "name": "stdout",
     "output_type": "stream",
     "text": [
      "['062822netr']\n"
     ]
    },
    {
     "name": "stderr",
     "output_type": "stream",
     "text": [
      "100%|██████████| 100/100 [00:00<00:00, 319.16it/s]\n",
      "100%|██████████| 100/100 [00:00<00:00, 475.46it/s]\n",
      "100%|██████████| 100/100 [00:00<00:00, 337.67it/s]\n",
      " 28%|██▊       | 28/100 [00:00<00:00, 271.99it/s]"
     ]
    },
    {
     "name": "stdout",
     "output_type": "stream",
     "text": [
      "['062822netr_30s']\n"
     ]
    },
    {
     "name": "stderr",
     "output_type": "stream",
     "text": [
      "100%|██████████| 100/100 [00:00<00:00, 268.44it/s]\n",
      "100%|██████████| 100/100 [00:00<00:00, 391.51it/s]\n",
      "100%|██████████| 100/100 [00:00<00:00, 273.27it/s]\n",
      "  7%|▋         | 7/100 [00:00<00:01, 63.20it/s]"
     ]
    },
    {
     "name": "stdout",
     "output_type": "stream",
     "text": [
      "['nkx', '052621nkx']\n"
     ]
    },
    {
     "name": "stderr",
     "output_type": "stream",
     "text": [
      "100%|██████████| 100/100 [00:01<00:00, 51.17it/s]\n",
      "100%|██████████| 100/100 [00:01<00:00, 86.47it/s]\n",
      "100%|██████████| 100/100 [00:01<00:00, 53.19it/s]\n",
      "  8%|▊         | 8/100 [00:00<00:01, 72.60it/s]"
     ]
    },
    {
     "name": "stdout",
     "output_type": "stream",
     "text": [
      "['nkx_30s', '052621nkx_30s']\n"
     ]
    },
    {
     "name": "stderr",
     "output_type": "stream",
     "text": [
      "100%|██████████| 100/100 [00:01<00:00, 58.03it/s]\n",
      "100%|██████████| 100/100 [00:00<00:00, 111.25it/s]\n",
      "100%|██████████| 100/100 [00:01<00:00, 66.33it/s]\n",
      "100%|██████████| 100/100 [00:00<00:00, 539.23it/s]\n",
      "  0%|          | 0/100 [00:00<?, ?it/s]"
     ]
    },
    {
     "name": "stdout",
     "output_type": "stream",
     "text": [
      "['101121arx']\n"
     ]
    },
    {
     "name": "stderr",
     "output_type": "stream",
     "text": [
      "100%|██████████| 100/100 [00:00<00:00, 804.51it/s]\n",
      "100%|██████████| 100/100 [00:00<00:00, 614.33it/s]\n",
      " 23%|██▎       | 23/100 [00:00<00:00, 229.96it/s]"
     ]
    },
    {
     "name": "stdout",
     "output_type": "stream",
     "text": [
      "['101121arx_30s']\n"
     ]
    },
    {
     "name": "stderr",
     "output_type": "stream",
     "text": [
      "100%|██████████| 100/100 [00:00<00:00, 228.98it/s]\n",
      "100%|██████████| 100/100 [00:00<00:00, 319.54it/s]\n",
      "100%|██████████| 100/100 [00:00<00:00, 228.43it/s]\n",
      " 15%|█▌        | 15/100 [00:00<00:00, 148.88it/s]"
     ]
    },
    {
     "name": "stdout",
     "output_type": "stream",
     "text": [
      "['121720tcf1', '032621tcf1']\n"
     ]
    },
    {
     "name": "stderr",
     "output_type": "stream",
     "text": [
      "100%|██████████| 100/100 [00:00<00:00, 104.28it/s]\n",
      "100%|██████████| 100/100 [00:00<00:00, 233.54it/s]\n",
      "100%|██████████| 100/100 [00:00<00:00, 143.71it/s]\n",
      "  9%|▉         | 9/100 [00:00<00:01, 89.18it/s]"
     ]
    },
    {
     "name": "stdout",
     "output_type": "stream",
     "text": [
      "['tcf1_30s', '121720tcf1_30s', '032621tcf1_30s']\n"
     ]
    },
    {
     "name": "stderr",
     "output_type": "stream",
     "text": [
      "100%|██████████| 100/100 [00:01<00:00, 96.79it/s]\n",
      "100%|██████████| 100/100 [00:00<00:00, 156.10it/s]\n",
      "100%|██████████| 100/100 [00:01<00:00, 81.55it/s]\n",
      " 26%|██▌       | 26/100 [00:00<00:00, 259.01it/s]"
     ]
    },
    {
     "name": "stdout",
     "output_type": "stream",
     "text": [
      "['mblk']\n"
     ]
    },
    {
     "name": "stderr",
     "output_type": "stream",
     "text": [
      "100%|██████████| 100/100 [00:00<00:00, 254.70it/s]\n",
      "100%|██████████| 100/100 [00:00<00:00, 364.17it/s]\n",
      "100%|██████████| 100/100 [00:00<00:00, 251.42it/s]\n",
      " 29%|██▉       | 29/100 [00:00<00:00, 284.59it/s]"
     ]
    },
    {
     "name": "stdout",
     "output_type": "stream",
     "text": [
      "['mblk_30s']\n"
     ]
    },
    {
     "name": "stderr",
     "output_type": "stream",
     "text": [
      "100%|██████████| 100/100 [00:00<00:00, 285.18it/s]\n",
      "100%|██████████| 100/100 [00:00<00:00, 400.39it/s]\n",
      "100%|██████████| 100/100 [00:00<00:00, 285.10it/s]\n",
      " 25%|██▌       | 25/100 [00:00<00:00, 248.53it/s]"
     ]
    },
    {
     "name": "stdout",
     "output_type": "stream",
     "text": [
      "['foxq2']\n"
     ]
    },
    {
     "name": "stderr",
     "output_type": "stream",
     "text": [
      "100%|██████████| 100/100 [00:00<00:00, 244.87it/s]\n",
      "100%|██████████| 100/100 [00:00<00:00, 366.46it/s]\n",
      "100%|██████████| 100/100 [00:00<00:00, 252.60it/s]\n",
      " 26%|██▌       | 26/100 [00:00<00:00, 253.43it/s]"
     ]
    },
    {
     "name": "stdout",
     "output_type": "stream",
     "text": [
      "['foxq2_30s']\n"
     ]
    },
    {
     "name": "stderr",
     "output_type": "stream",
     "text": [
      "100%|██████████| 100/100 [00:00<00:00, 254.58it/s]\n",
      "100%|██████████| 100/100 [00:00<00:00, 369.45it/s]\n",
      "100%|██████████| 100/100 [00:00<00:00, 249.15it/s]\n",
      "  8%|▊         | 8/100 [00:00<00:01, 78.76it/s]"
     ]
    },
    {
     "name": "stdout",
     "output_type": "stream",
     "text": [
      "['042521otxa']\n"
     ]
    },
    {
     "name": "stderr",
     "output_type": "stream",
     "text": [
      "100%|██████████| 100/100 [00:00<00:00, 108.29it/s]\n",
      "100%|██████████| 100/100 [00:00<00:00, 212.26it/s]\n",
      "100%|██████████| 100/100 [00:00<00:00, 114.38it/s]\n",
      " 25%|██▌       | 25/100 [00:00<00:00, 249.56it/s]"
     ]
    },
    {
     "name": "stdout",
     "output_type": "stream",
     "text": [
      "['042521otxa_30s']\n"
     ]
    },
    {
     "name": "stderr",
     "output_type": "stream",
     "text": [
      "100%|██████████| 100/100 [00:00<00:00, 245.62it/s]\n",
      "100%|██████████| 100/100 [00:00<00:00, 361.39it/s]\n",
      "100%|██████████| 100/100 [00:00<00:00, 255.04it/s]\n",
      "  8%|▊         | 8/100 [00:00<00:01, 72.85it/s]"
     ]
    },
    {
     "name": "stdout",
     "output_type": "stream",
     "text": [
      "['notum']\n"
     ]
    },
    {
     "name": "stderr",
     "output_type": "stream",
     "text": [
      "100%|██████████| 100/100 [00:01<00:00, 78.49it/s]\n",
      "100%|██████████| 100/100 [00:00<00:00, 115.17it/s]\n",
      "100%|██████████| 100/100 [00:01<00:00, 77.65it/s]\n",
      " 11%|█         | 11/100 [00:00<00:00, 102.38it/s]"
     ]
    },
    {
     "name": "stdout",
     "output_type": "stream",
     "text": [
      "['pknox30s', 'pknox']\n"
     ]
    },
    {
     "name": "stderr",
     "output_type": "stream",
     "text": [
      "100%|██████████| 100/100 [00:00<00:00, 105.87it/s]\n",
      "100%|██████████| 100/100 [00:00<00:00, 182.25it/s]\n",
      "100%|██████████| 100/100 [00:00<00:00, 101.71it/s]\n",
      " 30%|███       | 30/100 [00:00<00:00, 296.68it/s]"
     ]
    },
    {
     "name": "stdout",
     "output_type": "stream",
     "text": [
      "['pknox_30s']\n"
     ]
    },
    {
     "name": "stderr",
     "output_type": "stream",
     "text": [
      "100%|██████████| 100/100 [00:00<00:00, 286.64it/s]\n",
      "100%|██████████| 100/100 [00:00<00:00, 424.35it/s]\n",
      "100%|██████████| 100/100 [00:00<00:00, 285.08it/s]\n",
      " 45%|████▌     | 45/100 [00:00<00:00, 446.37it/s]"
     ]
    },
    {
     "name": "stdout",
     "output_type": "stream",
     "text": [
      "['soxb2']\n"
     ]
    },
    {
     "name": "stderr",
     "output_type": "stream",
     "text": [
      "100%|██████████| 100/100 [00:00<00:00, 447.67it/s]\n",
      "100%|██████████| 100/100 [00:00<00:00, 637.56it/s]\n",
      "100%|██████████| 100/100 [00:00<00:00, 446.53it/s]\n",
      " 29%|██▉       | 29/100 [00:00<00:00, 284.50it/s]"
     ]
    },
    {
     "name": "stdout",
     "output_type": "stream",
     "text": [
      "['soxb2_30s']\n"
     ]
    },
    {
     "name": "stderr",
     "output_type": "stream",
     "text": [
      "100%|██████████| 100/100 [00:00<00:00, 283.17it/s]\n",
      "100%|██████████| 100/100 [00:00<00:00, 413.66it/s]\n",
      "100%|██████████| 100/100 [00:00<00:00, 285.42it/s]\n",
      "  7%|▋         | 7/100 [00:00<00:01, 67.37it/s]"
     ]
    },
    {
     "name": "stdout",
     "output_type": "stream",
     "text": [
      "['rbpms_30s']\n"
     ]
    },
    {
     "name": "stderr",
     "output_type": "stream",
     "text": [
      "100%|██████████| 100/100 [00:01<00:00, 66.95it/s]\n",
      "100%|██████████| 100/100 [00:00<00:00, 107.08it/s]\n",
      "100%|██████████| 100/100 [00:01<00:00, 68.42it/s]\n",
      " 14%|█▍        | 14/100 [00:00<00:00, 131.74it/s]"
     ]
    },
    {
     "name": "stdout",
     "output_type": "stream",
     "text": [
      "['050621pou6f1']\n"
     ]
    },
    {
     "name": "stderr",
     "output_type": "stream",
     "text": [
      "100%|██████████| 100/100 [00:00<00:00, 141.78it/s]\n",
      "100%|██████████| 100/100 [00:00<00:00, 230.60it/s]\n",
      "100%|██████████| 100/100 [00:00<00:00, 150.22it/s]\n",
      " 25%|██▌       | 25/100 [00:00<00:00, 248.11it/s]"
     ]
    },
    {
     "name": "stdout",
     "output_type": "stream",
     "text": [
      "['050621pou6f1_30s']\n"
     ]
    },
    {
     "name": "stderr",
     "output_type": "stream",
     "text": [
      "100%|██████████| 100/100 [00:00<00:00, 245.53it/s]\n",
      "100%|██████████| 100/100 [00:00<00:00, 363.74it/s]\n",
      "100%|██████████| 100/100 [00:00<00:00, 250.90it/s]\n",
      " 15%|█▌        | 15/100 [00:00<00:00, 143.52it/s]"
     ]
    },
    {
     "name": "stdout",
     "output_type": "stream",
     "text": [
      "['pbx', '041321pbx']\n"
     ]
    },
    {
     "name": "stderr",
     "output_type": "stream",
     "text": [
      "100%|██████████| 100/100 [00:00<00:00, 141.34it/s]\n",
      "100%|██████████| 100/100 [00:00<00:00, 250.91it/s]\n",
      "100%|██████████| 100/100 [00:00<00:00, 136.33it/s]\n",
      "100%|██████████| 100/100 [00:00<00:00, 523.39it/s]\n",
      "  0%|          | 0/100 [00:00<?, ?it/s]"
     ]
    },
    {
     "name": "stdout",
     "output_type": "stream",
     "text": [
      "['041321pbx_30s']\n"
     ]
    },
    {
     "name": "stderr",
     "output_type": "stream",
     "text": [
      "100%|██████████| 100/100 [00:00<00:00, 715.53it/s]\n",
      "100%|██████████| 100/100 [00:00<00:00, 531.12it/s]\n",
      " 34%|███▍      | 34/100 [00:00<00:00, 337.06it/s]"
     ]
    },
    {
     "name": "stdout",
     "output_type": "stream",
     "text": [
      "['062822netr']\n"
     ]
    },
    {
     "name": "stderr",
     "output_type": "stream",
     "text": [
      "100%|██████████| 100/100 [00:00<00:00, 339.22it/s]\n",
      "100%|██████████| 100/100 [00:00<00:00, 489.64it/s]\n",
      "100%|██████████| 100/100 [00:00<00:00, 341.43it/s]\n",
      " 28%|██▊       | 28/100 [00:00<00:00, 275.93it/s]"
     ]
    },
    {
     "name": "stdout",
     "output_type": "stream",
     "text": [
      "['062822netr_30s']\n"
     ]
    },
    {
     "name": "stderr",
     "output_type": "stream",
     "text": [
      "100%|██████████| 100/100 [00:00<00:00, 274.55it/s]\n",
      "100%|██████████| 100/100 [00:00<00:00, 403.92it/s]\n",
      "100%|██████████| 100/100 [00:00<00:00, 278.33it/s]\n",
      " 11%|█         | 11/100 [00:00<00:00, 108.17it/s]"
     ]
    },
    {
     "name": "stdout",
     "output_type": "stream",
     "text": [
      "['050821tec1h', '050322tec1']\n"
     ]
    },
    {
     "name": "stderr",
     "output_type": "stream",
     "text": [
      "100%|██████████| 100/100 [00:00<00:00, 128.33it/s]\n",
      "100%|██████████| 100/100 [00:00<00:00, 222.18it/s]\n",
      "100%|██████████| 100/100 [00:01<00:00, 97.85it/s]\n",
      " 32%|███▏      | 32/100 [00:00<00:00, 314.54it/s]"
     ]
    },
    {
     "name": "stdout",
     "output_type": "stream",
     "text": [
      "['050322tec1_30s']\n"
     ]
    },
    {
     "name": "stderr",
     "output_type": "stream",
     "text": [
      "100%|██████████| 100/100 [00:00<00:00, 355.39it/s]\n",
      "100%|██████████| 100/100 [00:00<00:00, 609.42it/s]\n",
      "100%|██████████| 100/100 [00:00<00:00, 427.24it/s]\n",
      " 50%|█████     | 50/100 [00:00<00:00, 494.73it/s]"
     ]
    },
    {
     "name": "stdout",
     "output_type": "stream",
     "text": [
      "['vGlut']\n"
     ]
    },
    {
     "name": "stderr",
     "output_type": "stream",
     "text": [
      "100%|██████████| 100/100 [00:00<00:00, 493.93it/s]\n",
      "100%|██████████| 100/100 [00:00<00:00, 707.62it/s]\n",
      "100%|██████████| 100/100 [00:00<00:00, 502.67it/s]\n",
      " 15%|█▌        | 15/100 [00:00<00:00, 121.95it/s]"
     ]
    },
    {
     "name": "stdout",
     "output_type": "stream",
     "text": [
      "['vGlut_30s']\n"
     ]
    },
    {
     "name": "stderr",
     "output_type": "stream",
     "text": [
      "100%|██████████| 100/100 [00:00<00:00, 101.31it/s]\n",
      "100%|██████████| 100/100 [00:00<00:00, 215.87it/s]\n",
      "100%|██████████| 100/100 [00:00<00:00, 123.98it/s]\n",
      " 27%|██▋       | 27/100 [00:00<00:00, 258.67it/s]"
     ]
    },
    {
     "name": "stdout",
     "output_type": "stream",
     "text": [
      "['032321chat']\n"
     ]
    },
    {
     "name": "stderr",
     "output_type": "stream",
     "text": [
      "100%|██████████| 100/100 [00:00<00:00, 345.22it/s]\n",
      "100%|██████████| 100/100 [00:00<00:00, 611.93it/s]\n",
      "100%|██████████| 100/100 [00:00<00:00, 426.90it/s]\n",
      "100%|██████████| 100/100 [00:00<00:00, 529.53it/s]\n",
      "  0%|          | 0/100 [00:00<?, ?it/s]"
     ]
    },
    {
     "name": "stdout",
     "output_type": "stream",
     "text": [
      "['032321chat_30s']\n"
     ]
    },
    {
     "name": "stderr",
     "output_type": "stream",
     "text": [
      "100%|██████████| 100/100 [00:00<00:00, 674.72it/s]\n",
      "100%|██████████| 100/100 [00:00<00:00, 513.69it/s]\n",
      " 18%|█▊        | 18/100 [00:00<00:00, 174.61it/s]"
     ]
    },
    {
     "name": "stdout",
     "output_type": "stream",
     "text": [
      "['gad120120', '100421gad']\n"
     ]
    },
    {
     "name": "stderr",
     "output_type": "stream",
     "text": [
      "100%|██████████| 100/100 [00:00<00:00, 176.33it/s]\n",
      "100%|██████████| 100/100 [00:00<00:00, 265.17it/s]\n",
      "100%|██████████| 100/100 [00:00<00:00, 186.81it/s]\n",
      " 12%|█▏        | 12/100 [00:00<00:00, 110.90it/s]"
     ]
    },
    {
     "name": "stdout",
     "output_type": "stream",
     "text": [
      "['gad_30s', '100421gad_30s']\n"
     ]
    },
    {
     "name": "stderr",
     "output_type": "stream",
     "text": [
      "100%|██████████| 100/100 [00:01<00:00, 98.91it/s]\n",
      "100%|██████████| 100/100 [00:00<00:00, 171.18it/s]\n",
      "100%|██████████| 100/100 [00:01<00:00, 87.39it/s]\n",
      " 10%|█         | 10/100 [00:00<00:00, 93.80it/s]"
     ]
    },
    {
     "name": "stdout",
     "output_type": "stream",
     "text": [
      "['tbh', 'tbh120120', '042922tbh']\n"
     ]
    },
    {
     "name": "stderr",
     "output_type": "stream",
     "text": [
      "100%|██████████| 100/100 [00:01<00:00, 84.67it/s]\n",
      "100%|██████████| 100/100 [00:00<00:00, 145.37it/s]\n",
      "100%|██████████| 100/100 [00:01<00:00, 80.47it/s]\n",
      " 23%|██▎       | 23/100 [00:00<00:00, 222.19it/s]"
     ]
    },
    {
     "name": "stdout",
     "output_type": "stream",
     "text": [
      "['tbh_30s']\n"
     ]
    },
    {
     "name": "stderr",
     "output_type": "stream",
     "text": [
      "100%|██████████| 100/100 [00:00<00:00, 231.29it/s]\n",
      "100%|██████████| 100/100 [00:00<00:00, 343.36it/s]\n",
      "100%|██████████| 100/100 [00:00<00:00, 231.13it/s]\n",
      " 15%|█▌        | 15/100 [00:00<00:00, 143.86it/s]"
     ]
    },
    {
     "name": "stdout",
     "output_type": "stream",
     "text": [
      "['032321th', '0715224mnthstarve']\n"
     ]
    },
    {
     "name": "stderr",
     "output_type": "stream",
     "text": [
      "100%|██████████| 100/100 [00:00<00:00, 120.98it/s]\n",
      "100%|██████████| 100/100 [00:00<00:00, 217.96it/s]\n",
      "100%|██████████| 100/100 [00:00<00:00, 110.19it/s]\n",
      " 33%|███▎      | 33/100 [00:00<00:00, 327.18it/s]"
     ]
    },
    {
     "name": "stdout",
     "output_type": "stream",
     "text": [
      "['032321th_30s']\n"
     ]
    },
    {
     "name": "stderr",
     "output_type": "stream",
     "text": [
      "100%|██████████| 100/100 [00:00<00:00, 339.09it/s]\n",
      "100%|██████████| 100/100 [00:00<00:00, 520.40it/s]\n",
      "100%|██████████| 100/100 [00:00<00:00, 358.16it/s]\n",
      " 47%|████▋     | 47/100 [00:00<00:00, 466.94it/s]"
     ]
    },
    {
     "name": "stdout",
     "output_type": "stream",
     "text": [
      "['022421pc2']\n"
     ]
    },
    {
     "name": "stderr",
     "output_type": "stream",
     "text": [
      "100%|██████████| 100/100 [00:00<00:00, 466.09it/s]\n",
      "100%|██████████| 100/100 [00:00<00:00, 658.81it/s]\n",
      "100%|██████████| 100/100 [00:00<00:00, 464.71it/s]\n",
      " 12%|█▏        | 12/100 [00:00<00:00, 111.52it/s]"
     ]
    },
    {
     "name": "stdout",
     "output_type": "stream",
     "text": [
      "['pc2_30s', '022421pc2_30s']\n"
     ]
    },
    {
     "name": "stderr",
     "output_type": "stream",
     "text": [
      "100%|██████████| 100/100 [00:00<00:00, 103.29it/s]\n",
      "100%|██████████| 100/100 [00:00<00:00, 184.33it/s]\n",
      "100%|██████████| 100/100 [00:01<00:00, 96.94it/s]\n",
      " 30%|███       | 30/100 [00:00<00:00, 297.37it/s]"
     ]
    },
    {
     "name": "stdout",
     "output_type": "stream",
     "text": [
      "['062822eye531']\n"
     ]
    },
    {
     "name": "stderr",
     "output_type": "stream",
     "text": [
      "100%|██████████| 100/100 [00:00<00:00, 294.90it/s]\n",
      "100%|██████████| 100/100 [00:00<00:00, 430.18it/s]\n",
      "100%|██████████| 100/100 [00:00<00:00, 296.58it/s]\n",
      " 28%|██▊       | 28/100 [00:00<00:00, 278.33it/s]"
     ]
    },
    {
     "name": "stdout",
     "output_type": "stream",
     "text": [
      "['062822eye531_30s']\n"
     ]
    },
    {
     "name": "stderr",
     "output_type": "stream",
     "text": [
      "100%|██████████| 100/100 [00:00<00:00, 278.95it/s]\n",
      "100%|██████████| 100/100 [00:00<00:00, 402.19it/s]\n",
      "100%|██████████| 100/100 [00:00<00:00, 270.12it/s]\n",
      " 22%|██▏       | 22/100 [00:00<00:00, 216.56it/s]"
     ]
    },
    {
     "name": "stdout",
     "output_type": "stream",
     "text": [
      "['061622eye532']\n"
     ]
    },
    {
     "name": "stderr",
     "output_type": "stream",
     "text": [
      "100%|██████████| 100/100 [00:00<00:00, 211.57it/s]\n",
      "100%|██████████| 100/100 [00:00<00:00, 302.82it/s]\n",
      "100%|██████████| 100/100 [00:00<00:00, 209.75it/s]\n",
      " 23%|██▎       | 23/100 [00:00<00:00, 228.08it/s]"
     ]
    },
    {
     "name": "stdout",
     "output_type": "stream",
     "text": [
      "['061622eye532_30s']\n"
     ]
    },
    {
     "name": "stderr",
     "output_type": "stream",
     "text": [
      "100%|██████████| 100/100 [00:00<00:00, 225.89it/s]\n",
      "100%|██████████| 100/100 [00:00<00:00, 324.70it/s]\n",
      "100%|██████████| 100/100 [00:00<00:00, 222.02it/s]\n",
      " 30%|███       | 30/100 [00:00<00:00, 295.17it/s]"
     ]
    },
    {
     "name": "stdout",
     "output_type": "stream",
     "text": [
      "['061622spp1']\n"
     ]
    },
    {
     "name": "stderr",
     "output_type": "stream",
     "text": [
      "100%|██████████| 100/100 [00:00<00:00, 295.27it/s]\n",
      "100%|██████████| 100/100 [00:00<00:00, 422.50it/s]\n",
      "100%|██████████| 100/100 [00:00<00:00, 293.20it/s]\n",
      " 28%|██▊       | 28/100 [00:00<00:00, 274.66it/s]"
     ]
    },
    {
     "name": "stdout",
     "output_type": "stream",
     "text": [
      "['061622spp1_30s']\n"
     ]
    },
    {
     "name": "stderr",
     "output_type": "stream",
     "text": [
      "100%|██████████| 100/100 [00:00<00:00, 271.06it/s]\n",
      "100%|██████████| 100/100 [00:00<00:00, 389.92it/s]\n",
      "100%|██████████| 100/100 [00:00<00:00, 273.89it/s]\n",
      " 47%|████▋     | 47/100 [00:00<00:00, 467.42it/s]"
     ]
    },
    {
     "name": "stdout",
     "output_type": "stream",
     "text": [
      "['061622ppp1']\n"
     ]
    },
    {
     "name": "stderr",
     "output_type": "stream",
     "text": [
      "100%|██████████| 100/100 [00:00<00:00, 467.47it/s]\n",
      "100%|██████████| 100/100 [00:00<00:00, 640.46it/s]\n",
      "100%|██████████| 100/100 [00:00<00:00, 464.42it/s]\n",
      " 43%|████▎     | 43/100 [00:00<00:00, 420.96it/s]"
     ]
    },
    {
     "name": "stdout",
     "output_type": "stream",
     "text": [
      "['061622ppp1_30s']\n"
     ]
    },
    {
     "name": "stderr",
     "output_type": "stream",
     "text": [
      "100%|██████████| 100/100 [00:00<00:00, 423.17it/s]\n",
      "100%|██████████| 100/100 [00:00<00:00, 606.51it/s]\n",
      "100%|██████████| 100/100 [00:00<00:00, 422.42it/s]\n",
      " 28%|██▊       | 28/100 [00:00<00:00, 275.01it/s]"
     ]
    },
    {
     "name": "stdout",
     "output_type": "stream",
     "text": [
      "['eaat12']\n"
     ]
    },
    {
     "name": "stderr",
     "output_type": "stream",
     "text": [
      "100%|██████████| 100/100 [00:00<00:00, 276.59it/s]\n",
      "100%|██████████| 100/100 [00:00<00:00, 405.14it/s]\n",
      "100%|██████████| 100/100 [00:00<00:00, 277.98it/s]\n",
      " 17%|█▋        | 17/100 [00:00<00:00, 166.31it/s]"
     ]
    },
    {
     "name": "stdout",
     "output_type": "stream",
     "text": [
      "['eaat1_30s']\n"
     ]
    },
    {
     "name": "stderr",
     "output_type": "stream",
     "text": [
      "100%|██████████| 100/100 [00:00<00:00, 123.53it/s]\n",
      "100%|██████████| 100/100 [00:00<00:00, 215.09it/s]\n",
      "100%|██████████| 100/100 [00:00<00:00, 135.17it/s]\n",
      " 19%|█▉        | 19/100 [00:00<00:00, 186.39it/s]"
     ]
    },
    {
     "name": "stdout",
     "output_type": "stream",
     "text": [
      "['eaat2_30s']\n"
     ]
    },
    {
     "name": "stderr",
     "output_type": "stream",
     "text": [
      "100%|██████████| 100/100 [00:00<00:00, 193.99it/s]\n",
      "100%|██████████| 100/100 [00:00<00:00, 290.56it/s]\n",
      "100%|██████████| 100/100 [00:00<00:00, 196.22it/s]\n",
      " 27%|██▋       | 27/100 [00:00<00:00, 264.67it/s]"
     ]
    },
    {
     "name": "stdout",
     "output_type": "stream",
     "text": [
      "['gabra', '092821gabra']\n"
     ]
    },
    {
     "name": "stderr",
     "output_type": "stream",
     "text": [
      "100%|██████████| 100/100 [00:00<00:00, 264.27it/s]\n",
      "100%|██████████| 100/100 [00:00<00:00, 383.81it/s]\n",
      "100%|██████████| 100/100 [00:00<00:00, 260.14it/s]\n",
      " 25%|██▌       | 25/100 [00:00<00:00, 245.72it/s]"
     ]
    },
    {
     "name": "stdout",
     "output_type": "stream",
     "text": [
      "['gabra_30s', '092821gabra_30s']\n"
     ]
    },
    {
     "name": "stderr",
     "output_type": "stream",
     "text": [
      "100%|██████████| 100/100 [00:00<00:00, 245.38it/s]\n",
      "100%|██████████| 100/100 [00:00<00:00, 352.06it/s]\n",
      "100%|██████████| 100/100 [00:00<00:00, 246.29it/s]\n",
      " 43%|████▎     | 43/100 [00:00<00:00, 422.83it/s]"
     ]
    },
    {
     "name": "stdout",
     "output_type": "stream",
     "text": [
      "['gabrb']\n"
     ]
    },
    {
     "name": "stderr",
     "output_type": "stream",
     "text": [
      "100%|██████████| 100/100 [00:00<00:00, 420.72it/s]\n",
      "100%|██████████| 100/100 [00:00<00:00, 607.01it/s]\n",
      "100%|██████████| 100/100 [00:00<00:00, 419.38it/s]\n",
      " 42%|████▏     | 42/100 [00:00<00:00, 412.03it/s]"
     ]
    },
    {
     "name": "stdout",
     "output_type": "stream",
     "text": [
      "['gabrb_30s']\n"
     ]
    },
    {
     "name": "stderr",
     "output_type": "stream",
     "text": [
      "100%|██████████| 100/100 [00:00<00:00, 413.64it/s]\n",
      "100%|██████████| 100/100 [00:00<00:00, 619.92it/s]\n",
      "100%|██████████| 100/100 [00:00<00:00, 433.69it/s]\n",
      " 15%|█▌        | 15/100 [00:00<00:00, 147.21it/s]"
     ]
    },
    {
     "name": "stdout",
     "output_type": "stream",
     "text": [
      "['gat_30s']\n"
     ]
    },
    {
     "name": "stderr",
     "output_type": "stream",
     "text": [
      "100%|██████████| 100/100 [00:00<00:00, 114.26it/s]\n",
      "100%|██████████| 100/100 [00:00<00:00, 237.23it/s]\n",
      "100%|██████████| 100/100 [00:00<00:00, 136.78it/s]\n",
      " 14%|█▍        | 14/100 [00:00<00:00, 135.93it/s]"
     ]
    },
    {
     "name": "stdout",
     "output_type": "stream",
     "text": [
      "['gs_30s']\n"
     ]
    },
    {
     "name": "stderr",
     "output_type": "stream",
     "text": [
      "100%|██████████| 100/100 [00:00<00:00, 117.06it/s]\n",
      "100%|██████████| 100/100 [00:00<00:00, 242.80it/s]\n",
      "100%|██████████| 100/100 [00:00<00:00, 152.47it/s]\n",
      " 14%|█▍        | 14/100 [00:00<00:00, 134.99it/s]"
     ]
    },
    {
     "name": "stdout",
     "output_type": "stream",
     "text": [
      "['100421kcc', '100821kcc']\n"
     ]
    },
    {
     "name": "stderr",
     "output_type": "stream",
     "text": [
      "100%|██████████| 100/100 [00:00<00:00, 131.88it/s]\n",
      "100%|██████████| 100/100 [00:00<00:00, 218.94it/s]\n",
      "100%|██████████| 100/100 [00:00<00:00, 110.13it/s]\n",
      " 48%|████▊     | 48/100 [00:00<00:00, 478.39it/s]"
     ]
    },
    {
     "name": "stdout",
     "output_type": "stream",
     "text": [
      "['100421kcc_30s']\n"
     ]
    },
    {
     "name": "stderr",
     "output_type": "stream",
     "text": [
      "100%|██████████| 100/100 [00:00<00:00, 472.51it/s]\n",
      "100%|██████████| 100/100 [00:00<00:00, 680.07it/s]\n",
      "100%|██████████| 100/100 [00:00<00:00, 486.76it/s]\n",
      " 34%|███▍      | 34/100 [00:00<00:00, 336.97it/s]"
     ]
    },
    {
     "name": "stdout",
     "output_type": "stream",
     "text": [
      "['p450']\n"
     ]
    },
    {
     "name": "stderr",
     "output_type": "stream",
     "text": [
      "100%|██████████| 100/100 [00:00<00:00, 339.38it/s]\n",
      "100%|██████████| 100/100 [00:00<00:00, 490.74it/s]\n",
      "100%|██████████| 100/100 [00:00<00:00, 342.10it/s]\n",
      " 44%|████▍     | 44/100 [00:00<00:00, 435.57it/s]"
     ]
    },
    {
     "name": "stdout",
     "output_type": "stream",
     "text": [
      "['p450_30s']\n"
     ]
    },
    {
     "name": "stderr",
     "output_type": "stream",
     "text": [
      "100%|██████████| 100/100 [00:00<00:00, 431.84it/s]\n",
      "100%|██████████| 100/100 [00:00<00:00, 607.17it/s]\n",
      "100%|██████████| 100/100 [00:00<00:00, 430.20it/s]\n",
      " 12%|█▏        | 12/100 [00:00<00:00, 115.32it/s]"
     ]
    },
    {
     "name": "stdout",
     "output_type": "stream",
     "text": [
      "['snap25']\n"
     ]
    },
    {
     "name": "stderr",
     "output_type": "stream",
     "text": [
      "100%|██████████| 100/100 [00:00<00:00, 123.91it/s]\n",
      "100%|██████████| 100/100 [00:00<00:00, 252.29it/s]\n",
      "100%|██████████| 100/100 [00:00<00:00, 120.67it/s]\n",
      "  9%|▉         | 9/100 [00:00<00:01, 87.38it/s]"
     ]
    },
    {
     "name": "stdout",
     "output_type": "stream",
     "text": [
      "['snap25_30s']\n"
     ]
    },
    {
     "name": "stderr",
     "output_type": "stream",
     "text": [
      "100%|██████████| 100/100 [00:00<00:00, 124.76it/s]\n",
      "100%|██████████| 100/100 [00:00<00:00, 254.08it/s]\n",
      "100%|██████████| 100/100 [00:00<00:00, 143.05it/s]\n",
      "  5%|▌         | 5/100 [00:00<00:02, 46.78it/s]"
     ]
    },
    {
     "name": "stdout",
     "output_type": "stream",
     "text": [
      "['slit', '032922slit']\n"
     ]
    },
    {
     "name": "stderr",
     "output_type": "stream",
     "text": [
      "100%|██████████| 100/100 [00:02<00:00, 43.84it/s]\n",
      "100%|██████████| 100/100 [00:01<00:00, 75.33it/s]\n",
      "100%|██████████| 100/100 [00:02<00:00, 42.36it/s]\n",
      " 24%|██▍       | 24/100 [00:00<00:00, 231.94it/s]"
     ]
    },
    {
     "name": "stdout",
     "output_type": "stream",
     "text": [
      "['032922slit_30s']\n"
     ]
    },
    {
     "name": "stderr",
     "output_type": "stream",
     "text": [
      "100%|██████████| 100/100 [00:00<00:00, 234.76it/s]\n",
      "100%|██████████| 100/100 [00:00<00:00, 360.80it/s]\n",
      "100%|██████████| 100/100 [00:00<00:00, 250.96it/s]\n",
      "  9%|▉         | 9/100 [00:00<00:01, 83.05it/s]"
     ]
    },
    {
     "name": "stdout",
     "output_type": "stream",
     "text": [
      "['120820syt1t', '120820syt1h', '120820syt1', 'syt1a', '030421syt1']\n"
     ]
    },
    {
     "name": "stderr",
     "output_type": "stream",
     "text": [
      "100%|██████████| 100/100 [00:01<00:00, 85.93it/s]\n",
      "100%|██████████| 100/100 [00:00<00:00, 134.44it/s]\n",
      "100%|██████████| 100/100 [00:01<00:00, 90.18it/s]\n",
      " 13%|█▎        | 13/100 [00:00<00:00, 129.92it/s]"
     ]
    },
    {
     "name": "stdout",
     "output_type": "stream",
     "text": [
      "['120820syt1_30s', '030421syt1_30s', '091820syt1_30s']\n"
     ]
    },
    {
     "name": "stderr",
     "output_type": "stream",
     "text": [
      "100%|██████████| 100/100 [00:00<00:00, 114.25it/s]\n",
      "100%|██████████| 100/100 [00:00<00:00, 200.29it/s]\n",
      "100%|██████████| 100/100 [00:00<00:00, 121.72it/s]\n",
      "100%|██████████| 100/100 [00:00<00:00, 563.85it/s]\n",
      "  0%|          | 0/100 [00:00<?, ?it/s]"
     ]
    },
    {
     "name": "stdout",
     "output_type": "stream",
     "text": [
      "['syt1a']\n"
     ]
    },
    {
     "name": "stderr",
     "output_type": "stream",
     "text": [
      "100%|██████████| 100/100 [00:00<00:00, 787.30it/s]\n",
      "100%|██████████| 100/100 [00:00<00:00, 584.44it/s]\n",
      " 46%|████▌     | 46/100 [00:00<00:00, 458.58it/s]"
     ]
    },
    {
     "name": "stdout",
     "output_type": "stream",
     "text": [
      "['syt1a_30s']\n"
     ]
    },
    {
     "name": "stderr",
     "output_type": "stream",
     "text": [
      "100%|██████████| 100/100 [00:00<00:00, 458.48it/s]\n",
      "100%|██████████| 100/100 [00:00<00:00, 653.71it/s]\n",
      "100%|██████████| 100/100 [00:00<00:00, 485.77it/s]\n",
      "  3%|▎         | 3/100 [00:00<00:03, 27.62it/s]"
     ]
    },
    {
     "name": "stdout",
     "output_type": "stream",
     "text": [
      "['120720syt4h', '120720syt4t', '120720syt4', '021121syt4', '030421syt4', '042121syt4', 'COMBOsyt4']\n"
     ]
    },
    {
     "name": "stderr",
     "output_type": "stream",
     "text": [
      "100%|██████████| 100/100 [00:03<00:00, 27.37it/s]\n",
      "100%|██████████| 100/100 [00:02<00:00, 42.61it/s]\n",
      "100%|██████████| 100/100 [00:03<00:00, 25.76it/s]\n",
      "  4%|▍         | 4/100 [00:00<00:02, 38.23it/s]"
     ]
    },
    {
     "name": "stdout",
     "output_type": "stream",
     "text": [
      "['120720syt4_30s', '021121syt4_30s', '030421syt4_30s', '042121syt4_30s', 'COMBOsyt4_30s']\n"
     ]
    },
    {
     "name": "stderr",
     "output_type": "stream",
     "text": [
      "100%|██████████| 100/100 [00:02<00:00, 33.86it/s]\n",
      "100%|██████████| 100/100 [00:01<00:00, 57.97it/s]\n",
      "100%|██████████| 100/100 [00:02<00:00, 35.74it/s]\n",
      " 13%|█▎        | 13/100 [00:00<00:00, 123.75it/s]"
     ]
    },
    {
     "name": "stdout",
     "output_type": "stream",
     "text": [
      "['042522cali', '061122cali']\n"
     ]
    },
    {
     "name": "stderr",
     "output_type": "stream",
     "text": [
      "100%|██████████| 100/100 [00:00<00:00, 123.06it/s]\n",
      "100%|██████████| 100/100 [00:00<00:00, 217.50it/s]\n",
      "100%|██████████| 100/100 [00:00<00:00, 117.18it/s]\n",
      " 17%|█▋        | 17/100 [00:00<00:00, 165.86it/s]"
     ]
    },
    {
     "name": "stdout",
     "output_type": "stream",
     "text": [
      "['061122cali_30s']\n"
     ]
    },
    {
     "name": "stderr",
     "output_type": "stream",
     "text": [
      "100%|██████████| 100/100 [00:00<00:00, 222.68it/s]\n",
      "100%|██████████| 100/100 [00:00<00:00, 390.01it/s]\n",
      "100%|██████████| 100/100 [00:00<00:00, 266.20it/s]\n",
      " 24%|██▍       | 24/100 [00:00<00:00, 230.94it/s]"
     ]
    },
    {
     "name": "stdout",
     "output_type": "stream",
     "text": [
      "['estrella', '042522estrella']\n"
     ]
    },
    {
     "name": "stderr",
     "output_type": "stream",
     "text": [
      "100%|██████████| 100/100 [00:00<00:00, 233.02it/s]\n",
      "100%|██████████| 100/100 [00:00<00:00, 337.23it/s]\n",
      "100%|██████████| 100/100 [00:00<00:00, 228.01it/s]\n",
      " 43%|████▎     | 43/100 [00:00<00:00, 428.16it/s]"
     ]
    },
    {
     "name": "stdout",
     "output_type": "stream",
     "text": [
      "['estrella_30s']\n"
     ]
    },
    {
     "name": "stderr",
     "output_type": "stream",
     "text": [
      "100%|██████████| 100/100 [00:00<00:00, 423.05it/s]\n",
      "100%|██████████| 100/100 [00:00<00:00, 592.34it/s]\n",
      "100%|██████████| 100/100 [00:00<00:00, 418.23it/s]\n",
      " 16%|█▌        | 16/100 [00:00<00:00, 154.82it/s]"
     ]
    },
    {
     "name": "stdout",
     "output_type": "stream",
     "text": [
      "['if1', '061122if1']\n"
     ]
    },
    {
     "name": "stderr",
     "output_type": "stream",
     "text": [
      "100%|██████████| 100/100 [00:00<00:00, 141.67it/s]\n",
      "100%|██████████| 100/100 [00:00<00:00, 240.57it/s]\n",
      "100%|██████████| 100/100 [00:00<00:00, 139.77it/s]\n",
      " 12%|█▏        | 12/100 [00:00<00:00, 114.94it/s]"
     ]
    },
    {
     "name": "stdout",
     "output_type": "stream",
     "text": [
      "['if1_30s', '061122if1_30s']\n"
     ]
    },
    {
     "name": "stderr",
     "output_type": "stream",
     "text": [
      "100%|██████████| 100/100 [00:00<00:00, 146.95it/s]\n",
      "100%|██████████| 100/100 [00:00<00:00, 275.35it/s]\n",
      "100%|██████████| 100/100 [00:00<00:00, 150.67it/s]\n"
     ]
    },
    {
     "name": "stdout",
     "output_type": "stream",
     "text": [
      "2\n"
     ]
    },
    {
     "data": {
      "image/png": "[encoded data removed]",
      "text/plain": [
       "<Figure size 864x864 with 2 Axes>"
      ]
     },
     "metadata": {
      "needs_background": "light"
     },
     "output_type": "display_data"
    }
   ],
   "source": [
    "from tools.heatmap import behavior_heatmap\n",
    "interest=[\n",
    "          'netr','nkx','arx','tcf1','mblk','foxq2','fgfr3','otxa','notum','pknox','soxb2','rbpms','zic','pou6f1',\n",
    "          'pbx','netr','wnt5','tec1','pogk',\n",
    "          'vGlut','chat','gad','tbh','th','set',\n",
    "          'pc2','eye531','eye532','spp1','ppp1',\n",
    "          'eaat1','eaat2','gabra','gabrb','gat','glur2','gs','kcc','p450',\n",
    "          'snap25','slit','syt1','syt1a','syt4','syntax',\n",
    "          'cali','estrella','if1',\n",
    "            ]\n",
    "\n",
    "fig, ax, phenotype = behavior_heatmap(interest,[],n_boot=1e2,measure_compare='rel',cmap_clip=2)"
   ]
  },
  {
   "cell_type": "code",
   "execution_count": null,
   "id": "de1e8b3b",
   "metadata": {},
   "outputs": [],
   "source": []
  }
 ],
 "metadata": {
  "kernelspec": {
   "display_name": "Python 3",
   "language": "python",
   "name": "python3"
  },
  "language_info": {
   "codemirror_mode": {
    "name": "ipython",
    "version": 3
   },
   "file_extension": ".py",
   "mimetype": "text/x-python",
   "name": "python",
   "nbconvert_exporter": "python",
   "pygments_lexer": "ipython3",
   "version": "3.7.10"
  }
 },
 "nbformat": 4,
 "nbformat_minor": 5
}
