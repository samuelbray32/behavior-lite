{
 "cells": [
  {
   "cell_type": "code",
   "execution_count": 1,
   "id": "f18288cf",
   "metadata": {},
   "outputs": [],
   "source": [
    "import pickle \n",
    "import numpy as np\n",
    "import matplotlib.pyplot as plt\n",
    "plt.rcParams['svg.fonttype']='none'\n",
    "from tools.bootstrapTest import bootstrap_traces\n",
    "from tools.results import data_of_interest\n",
    "# from tools.results import rnai_response"
   ]
  },
  {
   "cell_type": "markdown",
   "id": "9c60d9aa",
   "metadata": {},
   "source": [
    "## Plotting of regeneration Data\n",
    "\n",
    "**Notes**\n",
    "_interest_: datasets to look at. note that datasets aren't merged in this function\n",
    "\n",
    "_whole_ref_: if True, compares to whole worm WT, else compares to regenerating WT\n",
    "\n",
    "_ylim_: ylim for plotting. define eithe just one tuple to apply to all datasets, or a tuple of tuples with limits for each dataset plotted"
   ]
  },
  {
   "cell_type": "code",
   "execution_count": null,
   "id": "4daed984",
   "metadata": {},
   "outputs": [
    {
     "name": "stdout",
     "output_type": "stream",
     "text": [
      "(0, 1)\n",
      "WT\n",
      "(0, 1.5)\n",
      "WT_30s\n"
     ]
    }
   ],
   "source": [
    "from tools.results_regeneration import rnai_response_regen\n",
    "n_boot = 1e3\n",
    "statistic=np.median\n",
    "#plot_subset\n",
    "interest = ['standard_5s2h','standard_30s2h']\n",
    "exclude = []\n",
    "fig,ax = rnai_response_regen(interest,exclude,n_boot,statistic,whole_ref=True,\n",
    "                            ylim=((0,1),(0,1.5)))\n",
    "for a in np.ravel(ax):\n",
    "    a.set_xlim(-3,10)"
   ]
  },
  {
   "cell_type": "code",
   "execution_count": null,
   "id": "2158cf35",
   "metadata": {},
   "outputs": [],
   "source": []
  }
 ],
 "metadata": {
  "kernelspec": {
   "display_name": "Python 3",
   "language": "python",
   "name": "python3"
  },
  "language_info": {
   "codemirror_mode": {
    "name": "ipython",
    "version": 3
   },
   "file_extension": ".py",
   "mimetype": "text/x-python",
   "name": "python",
   "nbconvert_exporter": "python",
   "pygments_lexer": "ipython3",
   "version": "3.7.10"
  }
 },
 "nbformat": 4,
 "nbformat_minor": 5
}
